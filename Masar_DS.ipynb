{
  "nbformat": 4,
  "nbformat_minor": 0,
  "metadata": {
    "colab": {
      "provenance": [],
      "authorship_tag": "ABX9TyPOVWvk8L28MQrGccN7QcM2",
      "include_colab_link": true
    },
    "kernelspec": {
      "name": "python3",
      "display_name": "Python 3"
    },
    "language_info": {
      "name": "python"
    }
  },
  "cells": [
    {
      "cell_type": "markdown",
      "metadata": {
        "id": "view-in-github",
        "colab_type": "text"
      },
      "source": [
        "<a href=\"https://colab.research.google.com/github/DSomair/Masar_DS/blob/main/Masar_DS.ipynb\" target=\"_parent\"><img src=\"https://colab.research.google.com/assets/colab-badge.svg\" alt=\"Open In Colab\"/></a>"
      ]
    },
    {
      "cell_type": "code",
      "execution_count": null,
      "metadata": {
        "id": "9iHcnPitxYW6"
      },
      "outputs": [],
      "source": []
    },
    {
      "cell_type": "markdown",
      "source": [
        "I want to write my code but also need some text\n",
        "\n",
        "```\n",
        "for i in range(10):\n",
        "  print(f\"I love Data science and Masar    {i}\")\n",
        "```\n",
        "\n"
      ],
      "metadata": {
        "id": "V9uETp3sx91y"
      }
    },
    {
      "cell_type": "code",
      "source": [
        "#Here is the code cell and you can see the run cell symbol\n",
        "\n",
        "for i in range(10):\n",
        "  print(f\"I love Data science and Masar    {i}\")"
      ],
      "metadata": {
        "colab": {
          "base_uri": "https://localhost:8080/"
        },
        "id": "iiH5Z8LLx_TP",
        "outputId": "38b9fefd-545b-4c95-9f15-62e06e8b885a"
      },
      "execution_count": 7,
      "outputs": [
        {
          "output_type": "stream",
          "name": "stdout",
          "text": [
            "I love Data science and Masar    0\n",
            "I love Data science and Masar    1\n",
            "I love Data science and Masar    2\n",
            "I love Data science and Masar    3\n",
            "I love Data science and Masar    4\n",
            "I love Data science and Masar    5\n",
            "I love Data science and Masar    6\n",
            "I love Data science and Masar    7\n",
            "I love Data science and Masar    8\n",
            "I love Data science and Masar    9\n"
          ]
        }
      ]
    }
  ]
}